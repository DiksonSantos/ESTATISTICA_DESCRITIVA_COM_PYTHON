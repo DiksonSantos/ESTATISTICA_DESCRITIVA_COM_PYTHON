{
 "cells": [
  {
   "cell_type": "code",
   "execution_count": 1,
   "metadata": {},
   "outputs": [],
   "source": [
    "import random"
   ]
  },
  {
   "cell_type": "code",
   "execution_count": 2,
   "metadata": {},
   "outputs": [],
   "source": [
    "import numpy as np"
   ]
  },
  {
   "cell_type": "code",
   "execution_count": 6,
   "metadata": {},
   "outputs": [
    {
     "name": "stdout",
     "output_type": "stream",
     "text": [
      "0.7264258416296855\n"
     ]
    }
   ],
   "source": [
    "#Numeros de 0, alguma coisa até 1\n",
    "x = random.random()\n",
    "print(x)"
   ]
  },
  {
   "cell_type": "code",
   "execution_count": 7,
   "metadata": {},
   "outputs": [],
   "source": [
    "y = []\n",
    "for i in range(100):\n",
    "    y.append(random.random())"
   ]
  },
  {
   "cell_type": "code",
   "execution_count": 9,
   "metadata": {},
   "outputs": [
    {
     "data": {
      "text/plain": [
       "100"
      ]
     },
     "execution_count": 9,
     "metadata": {},
     "output_type": "execute_result"
    }
   ],
   "source": [
    "len(y)"
   ]
  },
  {
   "cell_type": "code",
   "execution_count": 10,
   "metadata": {},
   "outputs": [],
   "source": [
    "#Acaba com a aleatoriedade dos numeros. Todos os numeros apresentados seraão sempre os\n",
    "#.. mesmos de agora em diante:\n",
    "random.seed(777)"
   ]
  },
  {
   "cell_type": "code",
   "execution_count": 12,
   "metadata": {},
   "outputs": [
    {
     "data": {
      "text/plain": [
       "[0.605075284564601,\n",
       " 0.11645825639399887,\n",
       " 0.44104866034830326,\n",
       " 0.6369057401411643,\n",
       " 0.10221102649746916,\n",
       " 0.5405118445546658,\n",
       " 0.41393441860406877,\n",
       " 0.5521391160997049,\n",
       " 0.9437107858892437,\n",
       " 0.730249490506033,\n",
       " 0.26791430984628084,\n",
       " 0.15712744036083848,\n",
       " 0.3744190539038257,\n",
       " 0.8952012737037466,\n",
       " 0.25350427323740876,\n",
       " 0.22243566196151077,\n",
       " 0.39787597084563553,\n",
       " 0.3727277337685617,\n",
       " 0.04862659438567929,\n",
       " 0.1747559808207647,\n",
       " 0.935366973154204,\n",
       " 0.19411851671577818,\n",
       " 0.7752623897766238,\n",
       " 0.4499344786371611,\n",
       " 0.3609586502894587,\n",
       " 0.4105984137313089,\n",
       " 0.11221300134323586,\n",
       " 0.9605935410910694,\n",
       " 0.0526429928548805,\n",
       " 0.2396946581333399,\n",
       " 0.4582927889645382,\n",
       " 0.6092852003865424,\n",
       " 0.6324868443862691,\n",
       " 0.47199977973627516,\n",
       " 0.16861216854391103,\n",
       " 0.3612110589290396,\n",
       " 0.369456924208452,\n",
       " 0.1120549552092448,\n",
       " 0.9498216189352136,\n",
       " 0.7382798563510983,\n",
       " 0.35068531480682996,\n",
       " 0.3930481760642537,\n",
       " 0.5665690582658982,\n",
       " 0.6926128550957955,\n",
       " 0.8735757823689108,\n",
       " 0.917422088172522,\n",
       " 0.15572402266674268,\n",
       " 0.025367846997589094,\n",
       " 0.5977733549551786,\n",
       " 0.13847364796704442,\n",
       " 0.8883608734694416,\n",
       " 0.5935501339948157,\n",
       " 0.7906724497320761,\n",
       " 0.045128109344257705,\n",
       " 0.0940585098625194,\n",
       " 0.12154991949684657,\n",
       " 0.9383663031970987,\n",
       " 0.8720845691663781,\n",
       " 0.6028455100799144,\n",
       " 0.2825108279393588,\n",
       " 0.23509683914391677,\n",
       " 0.6797673919781689,\n",
       " 0.33390662214282874,\n",
       " 0.13560952786402491,\n",
       " 0.6888330955015441,\n",
       " 0.9742518411834545,\n",
       " 0.5447780326850801,\n",
       " 0.6667148141175958,\n",
       " 0.8323453748718913,\n",
       " 0.07377967766859495,\n",
       " 0.9325385030300991,\n",
       " 0.18591098395615913,\n",
       " 0.5846923874206145,\n",
       " 0.15653284933811729,\n",
       " 0.02592125586479621,\n",
       " 0.06415480989708233,\n",
       " 0.8565757615006825,\n",
       " 0.8567830595955513,\n",
       " 0.5073390236713005,\n",
       " 0.8843461010009269,\n",
       " 0.016202511398164865,\n",
       " 0.42136215175893477,\n",
       " 0.0356612958518977,\n",
       " 0.18458761519646905,\n",
       " 0.6626265154051294,\n",
       " 0.9668201270122139,\n",
       " 0.5305682392524306,\n",
       " 0.8996873057233261,\n",
       " 0.420267916765784,\n",
       " 0.1383113978736744,\n",
       " 0.37646960870726764,\n",
       " 0.8811197877983042,\n",
       " 0.5339704669960534,\n",
       " 0.965378651869229,\n",
       " 0.2168469762841404,\n",
       " 0.6285674212880958,\n",
       " 0.9349886498941588,\n",
       " 0.13202972381009426,\n",
       " 0.24641682291737532,\n",
       " 0.7529957842311912]"
      ]
     },
     "execution_count": 12,
     "metadata": {},
     "output_type": "execute_result"
    }
   ],
   "source": [
    "y"
   ]
  },
  {
   "cell_type": "code",
   "execution_count": 15,
   "metadata": {},
   "outputs": [],
   "source": [
    "lang = ['Python', 'Ruby', 'R', 'Scalla','JAVA','HTML','JavaScript','Pascal','Fortran']"
   ]
  },
  {
   "cell_type": "code",
   "execution_count": 16,
   "metadata": {},
   "outputs": [
    {
     "name": "stdout",
     "output_type": "stream",
     "text": [
      "Python-Ruby-R-Scalla-JAVA-HTML-JavaScript-Pascal-Fortran-"
     ]
    }
   ],
   "source": [
    "for k in lang:\n",
    "    print(k,end='-')"
   ]
  },
  {
   "cell_type": "code",
   "execution_count": 18,
   "metadata": {},
   "outputs": [
    {
     "data": {
      "text/plain": [
       "'Pascal'"
      ]
     },
     "execution_count": 18,
     "metadata": {},
     "output_type": "execute_result"
    }
   ],
   "source": [
    "random.choice(lang)"
   ]
  },
  {
   "cell_type": "code",
   "execution_count": 19,
   "metadata": {},
   "outputs": [],
   "source": [
    "#EMBARALHAR OS NOMES DENTRO DA LISTA:\n",
    "random.shuffle(lang)"
   ]
  },
  {
   "cell_type": "code",
   "execution_count": 20,
   "metadata": {},
   "outputs": [
    {
     "data": {
      "text/plain": [
       "['Scalla',\n",
       " 'JavaScript',\n",
       " 'Ruby',\n",
       " 'Python',\n",
       " 'Fortran',\n",
       " 'R',\n",
       " 'JAVA',\n",
       " 'HTML',\n",
       " 'Pascal']"
      ]
     },
     "execution_count": 20,
     "metadata": {},
     "output_type": "execute_result"
    }
   ],
   "source": [
    "lang"
   ]
  },
  {
   "cell_type": "code",
   "execution_count": 21,
   "metadata": {},
   "outputs": [],
   "source": [
    "random.shuffle(lang)"
   ]
  },
  {
   "cell_type": "code",
   "execution_count": 22,
   "metadata": {},
   "outputs": [
    {
     "name": "stdout",
     "output_type": "stream",
     "text": [
      "HTML-Python-Pascal-Ruby-JAVA-R-Scalla-JavaScript-Fortran-"
     ]
    }
   ],
   "source": [
    "for k in lang:\n",
    "    print(k,end='-')"
   ]
  },
  {
   "cell_type": "code",
   "execution_count": 24,
   "metadata": {},
   "outputs": [
    {
     "data": {
      "text/plain": [
       "['R', 'JAVA']"
      ]
     },
     "execution_count": 24,
     "metadata": {},
     "output_type": "execute_result"
    }
   ],
   "source": [
    "random.sample(lang,2)"
   ]
  },
  {
   "cell_type": "code",
   "execution_count": 25,
   "metadata": {},
   "outputs": [
    {
     "data": {
      "text/plain": [
       "['JAVA', 'Python', 'R', 'Scalla', 'JavaScript', 'Pascal']"
      ]
     },
     "execution_count": 25,
     "metadata": {},
     "output_type": "execute_result"
    }
   ],
   "source": [
    "random.sample(lang,6)"
   ]
  },
  {
   "cell_type": "code",
   "execution_count": 27,
   "metadata": {},
   "outputs": [
    {
     "data": {
      "text/plain": [
       "['Pascal']"
      ]
     },
     "execution_count": 27,
     "metadata": {},
     "output_type": "execute_result"
    }
   ],
   "source": [
    "random.sample(lang,1)"
   ]
  },
  {
   "cell_type": "code",
   "execution_count": null,
   "metadata": {},
   "outputs": [],
   "source": []
  }
 ],
 "metadata": {
  "kernelspec": {
   "display_name": "Python 3",
   "language": "python",
   "name": "python3"
  },
  "language_info": {
   "codemirror_mode": {
    "name": "ipython",
    "version": 3
   },
   "file_extension": ".py",
   "mimetype": "text/x-python",
   "name": "python",
   "nbconvert_exporter": "python",
   "pygments_lexer": "ipython3",
   "version": "3.7.4"
  }
 },
 "nbformat": 4,
 "nbformat_minor": 2
}
